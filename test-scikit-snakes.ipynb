{
 "cells": [
  {
   "cell_type": "code",
   "execution_count": 12,
   "metadata": {},
   "outputs": [],
   "source": [
    "import sys\n",
    "sys.dont_write_bytecode = True\n",
    "\n",
    "import math\n",
    "import numpy as np\n",
    "import cv2 as cv\n",
    "import matplotlib.pyplot as plt\n",
    "from lib.utils import imshow\n",
    "from skimage.exposure import histogram\n",
    "from skimage.feature import canny\n",
    "from skimage.filters import sobel, gaussian\n",
    "from skimage.future import graph\n",
    "from skimage import segmentation, color\n",
    "from skimage.restoration import (denoise_tv_chambolle, denoise_bilateral, denoise_wavelet, estimate_sigma)\n",
    "from scipy import ndimage as ndi\n",
    "\n",
    "%matplotlib inline\n",
    "\n",
    "import contextlib\n",
    "with contextlib.redirect_stdout(None):\n",
    "    np.seterr(divide = 'ignore')\n",
    "import warnings\n",
    "warnings.filterwarnings('ignore')"
   ]
  },
  {
   "cell_type": "code",
   "execution_count": 3,
   "metadata": {},
   "outputs": [],
   "source": [
    "image = cv.imread('./images/Initial & repeat MRI in MS-Free Dataset/AA/1/IM_00037.TIF')\n",
    "im_gray = cv.cvtColor(image,cv.COLOR_BGR2GRAY)"
   ]
  },
  {
   "cell_type": "code",
   "execution_count": 20,
   "metadata": {},
   "outputs": [
    {
     "ename": "KeyboardInterrupt",
     "evalue": "",
     "output_type": "error",
     "traceback": [
      "\u001b[0;31m---------------------------------------------------------------------------\u001b[0m",
      "\u001b[0;31mKeyboardInterrupt\u001b[0m                         Traceback (most recent call last)",
      "\u001b[1;32m/Users/wildergd/Documents/MCPI/semester-2/procesamiento-digital-imagenes/tarea/test-scikit-snakes.ipynb Cell 3\u001b[0m in \u001b[0;36m<cell line: 3>\u001b[0;34m()\u001b[0m\n\u001b[1;32m      <a href='vscode-notebook-cell:/Users/wildergd/Documents/MCPI/semester-2/procesamiento-digital-imagenes/tarea/test-scikit-snakes.ipynb#W3sZmlsZQ%3D%3D?line=0'>1</a>\u001b[0m labels1 \u001b[39m=\u001b[39m segmentation\u001b[39m.\u001b[39mslic(im_gray, compactness\u001b[39m=\u001b[39m\u001b[39m30\u001b[39m, n_segments\u001b[39m=\u001b[39m\u001b[39m400\u001b[39m, start_label\u001b[39m=\u001b[39m\u001b[39m1\u001b[39m)\n\u001b[1;32m      <a href='vscode-notebook-cell:/Users/wildergd/Documents/MCPI/semester-2/procesamiento-digital-imagenes/tarea/test-scikit-snakes.ipynb#W3sZmlsZQ%3D%3D?line=1'>2</a>\u001b[0m out1 \u001b[39m=\u001b[39m color\u001b[39m.\u001b[39mlabel2rgb(labels1, im_gray, kind\u001b[39m=\u001b[39m\u001b[39m'\u001b[39m\u001b[39mavg\u001b[39m\u001b[39m'\u001b[39m, bg_label\u001b[39m=\u001b[39m\u001b[39m0\u001b[39m)\n\u001b[0;32m----> <a href='vscode-notebook-cell:/Users/wildergd/Documents/MCPI/semester-2/procesamiento-digital-imagenes/tarea/test-scikit-snakes.ipynb#W3sZmlsZQ%3D%3D?line=2'>3</a>\u001b[0m g \u001b[39m=\u001b[39m graph\u001b[39m.\u001b[39;49mrag_mean_color(im_gray, labels1, mode\u001b[39m=\u001b[39;49m\u001b[39m'\u001b[39;49m\u001b[39mdistance\u001b[39;49m\u001b[39m'\u001b[39;49m)\n\u001b[1;32m      <a href='vscode-notebook-cell:/Users/wildergd/Documents/MCPI/semester-2/procesamiento-digital-imagenes/tarea/test-scikit-snakes.ipynb#W3sZmlsZQ%3D%3D?line=3'>4</a>\u001b[0m labels2 \u001b[39m=\u001b[39m graph\u001b[39m.\u001b[39mcut_normalized(labels1, g)\n\u001b[1;32m      <a href='vscode-notebook-cell:/Users/wildergd/Documents/MCPI/semester-2/procesamiento-digital-imagenes/tarea/test-scikit-snakes.ipynb#W3sZmlsZQ%3D%3D?line=4'>5</a>\u001b[0m out2 \u001b[39m=\u001b[39m color\u001b[39m.\u001b[39mlabel2rgb(labels2, im_gray, kind\u001b[39m=\u001b[39m\u001b[39m'\u001b[39m\u001b[39mavg\u001b[39m\u001b[39m'\u001b[39m, bg_label\u001b[39m=\u001b[39m\u001b[39m0\u001b[39m)\n",
      "File \u001b[0;32m~/opt/anaconda3/envs/python-ml-env/lib/python3.9/site-packages/skimage/future/graph/rag.py:368\u001b[0m, in \u001b[0;36mrag_mean_color\u001b[0;34m(image, labels, connectivity, mode, sigma)\u001b[0m\n\u001b[1;32m    366\u001b[0m     current \u001b[39m=\u001b[39m labels[index]\n\u001b[1;32m    367\u001b[0m     graph\u001b[39m.\u001b[39mnodes[current][\u001b[39m'\u001b[39m\u001b[39mpixel count\u001b[39m\u001b[39m'\u001b[39m] \u001b[39m+\u001b[39m\u001b[39m=\u001b[39m \u001b[39m1\u001b[39m\n\u001b[0;32m--> 368\u001b[0m     graph\u001b[39m.\u001b[39mnodes[current][\u001b[39m'\u001b[39m\u001b[39mtotal color\u001b[39m\u001b[39m'\u001b[39m] \u001b[39m+\u001b[39m\u001b[39m=\u001b[39m image[index]\n\u001b[1;32m    370\u001b[0m \u001b[39mfor\u001b[39;00m n \u001b[39min\u001b[39;00m graph:\n\u001b[1;32m    371\u001b[0m     graph\u001b[39m.\u001b[39mnodes[n][\u001b[39m'\u001b[39m\u001b[39mmean color\u001b[39m\u001b[39m'\u001b[39m] \u001b[39m=\u001b[39m (graph\u001b[39m.\u001b[39mnodes[n][\u001b[39m'\u001b[39m\u001b[39mtotal color\u001b[39m\u001b[39m'\u001b[39m] \u001b[39m/\u001b[39m\n\u001b[1;32m    372\u001b[0m                                     graph\u001b[39m.\u001b[39mnodes[n][\u001b[39m'\u001b[39m\u001b[39mpixel count\u001b[39m\u001b[39m'\u001b[39m])\n",
      "\u001b[0;31mKeyboardInterrupt\u001b[0m: "
     ]
    }
   ],
   "source": [
    "labels1 = segmentation.slic(im_gray, compactness=30, n_segments=400, start_label=1)\n",
    "# out1 = color.label2rgb(labels1, im_gray, kind='avg', bg_label=0)\n",
    "g = graph.rag_mean_color(im_gray, labels1, mode='distance')\n",
    "labels2 = graph.cut_normalized(labels1, g)\n",
    "out2 = color.label2rgb(labels2, im_gray, kind='avg', bg_label=0)\n",
    "imshow(\n",
    "    im_gray,\n",
    "    out1,\n",
    "    out2\n",
    ")"
   ]
  },
  {
   "cell_type": "code",
   "execution_count": 4,
   "metadata": {},
   "outputs": [],
   "source": [
    "\n",
    "# s = np.linspace(0, 2*np.pi, 400)\n",
    "# r = 256 + 150*np.sin(s)\n",
    "# c = 256 + 150*np.cos(s)\n",
    "# init = np.array([r, c]).T\n",
    "\n",
    "# snake = active_contour(gaussian(im_gray, 3, preserve_range=False),\n",
    "#                        init, alpha=0.015, beta=10, gamma=0.001)\n",
    "\n",
    "\n",
    "# fig, ax = plt.subplots(figsize=(7, 7))\n",
    "# ax.imshow(im_gray, cmap='gray')\n",
    "# ax.plot(init[:, 1], init[:, 0], '--r', lw=3)\n",
    "# ax.plot(snake[:, 1], snake[:, 0], '-b', lw=3)\n",
    "# ax.set_xticks([]), ax.set_yticks([])\n",
    "# ax.axis([0, im_gray.shape[1], im_gray.shape[0], 0])\n",
    "\n",
    "# plt.show()\n",
    "\n",
    "# imshow(im_gray, snake)"
   ]
  }
 ],
 "metadata": {
  "kernelspec": {
   "display_name": "python-ml-env",
   "language": "python",
   "name": "python3"
  },
  "language_info": {
   "codemirror_mode": {
    "name": "ipython",
    "version": 3
   },
   "file_extension": ".py",
   "mimetype": "text/x-python",
   "name": "python",
   "nbconvert_exporter": "python",
   "pygments_lexer": "ipython3",
   "version": "3.9.13 | packaged by conda-forge | (main, May 27 2022, 17:00:52) \n[Clang 13.0.1 ]"
  },
  "orig_nbformat": 4,
  "vscode": {
   "interpreter": {
    "hash": "b9b2b267d8b6a44308ab2463d2c66239007e25fbee8b8f5913de181c571a9509"
   }
  }
 },
 "nbformat": 4,
 "nbformat_minor": 2
}
